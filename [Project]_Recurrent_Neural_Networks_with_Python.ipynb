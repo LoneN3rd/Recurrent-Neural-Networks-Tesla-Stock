{
  "nbformat": 4,
  "nbformat_minor": 0,
  "metadata": {
    "colab": {
      "name": "[Project] Recurrent Neural Networks with Python",
      "provenance": [],
      "collapsed_sections": [
        "XecOwPNorl2W",
        "i5BnrlDxU5uG"
      ],
      "toc_visible": true
    },
    "kernelspec": {
      "name": "python3",
      "display_name": "Python 3"
    },
    "accelerator": "GPU"
  },
  "cells": [
    {
      "cell_type": "markdown",
      "metadata": {
        "id": "ymYoNMngEbN1"
      },
      "source": [
        "# Recurrent Neural Networks with Python - Project"
      ]
    },
    {
      "cell_type": "markdown",
      "metadata": {
        "id": "kLG2VTrnTvYL"
      },
      "source": [
        "##  1. Business Understanding\n",
        "\n"
      ]
    },
    {
      "cell_type": "markdown",
      "metadata": {
        "id": "a9BPYqunry97"
      },
      "source": [
        "### Background Information\n",
        "\n",
        "Stockpy is an innovative fintech enabling financial prosperity for the entire population. It is a venture funded startup based in Palo Alto bringing world-class financial experiences to a continually growing customer base. As Stockpy enters an expansion phase for innovative fintech product offerings, it aims to enhance the enormous value in data processing and analysis for continuous growth and success.\n",
        "\n",
        "As a Finance Data Scientist for Stockpy, you provide leadership to turn cutting-edge technology into actionable insights; unlocking the power of data that provides value to business decisions and customer service enhancements."
      ]
    },
    {
      "cell_type": "markdown",
      "metadata": {
        "id": "XecOwPNorl2W"
      },
      "source": [
        "### The Research Question\n",
        "\n",
        "Build a recurrent neural networks model that will be used to predict Tesla stock prices in 2017 using data from 2012-2016"
      ]
    },
    {
      "cell_type": "markdown",
      "metadata": {
        "id": "J4wfHZwQrs-t"
      },
      "source": [
        "### Metric for Success\n",
        "\n",
        "Build a neural networks regression model with an RMSE  less than 10% of the target mean."
      ]
    },
    {
      "cell_type": "markdown",
      "metadata": {
        "id": "7KMRBJ7zr9HD"
      },
      "source": [
        "### Solutin Steps\n",
        "\n",
        "* Load libraries and data.\n",
        "* Data exploration & cleaning.\n",
        "* Data preparation.\n",
        "* Data modeling.\n",
        "* Model evaluation.\n",
        "* Summarize findings.\n",
        "* Provide recommendations.\n",
        "* Challenge the solution.\n"
      ]
    },
    {
      "cell_type": "markdown",
      "metadata": {
        "id": "n8tP5QFQEcy2"
      },
      "source": [
        "## Load Libraries and Data"
      ]
    },
    {
      "cell_type": "code",
      "metadata": {
        "id": "QIjcefBSy7I_"
      },
      "source": [
        "# import standard libraries\n",
        "import pandas as pd               # library for data manipulation\n",
        "import numpy as np                # library for scientific computations\n",
        "import matplotlib.pyplot as plt   # library for data visualisation "
      ],
      "execution_count": 1,
      "outputs": []
    },
    {
      "cell_type": "code",
      "metadata": {
        "id": "BmLxWeu1DTP9"
      },
      "source": [
        "# load dataset\n",
        "train_df = pd.read_csv(\"https://bit.ly/38dSbSb\")"
      ],
      "execution_count": 2,
      "outputs": []
    },
    {
      "cell_type": "markdown",
      "metadata": {
        "id": "yPaOYgFMEemO"
      },
      "source": [
        "## Data Exploration & Cleaning"
      ]
    },
    {
      "cell_type": "code",
      "metadata": {
        "id": "S2HpkzRPJGVn",
        "colab": {
          "base_uri": "https://localhost:8080/",
          "height": 206
        },
        "outputId": "9619a6ed-4e1a-4183-cebe-1e3b7cdb94b3"
      },
      "source": [
        "# Sample dataset\n",
        "train_df.sample(5)"
      ],
      "execution_count": 3,
      "outputs": [
        {
          "output_type": "execute_result",
          "data": {
            "text/plain": [
              "            Date       Open       High        Low      Close  Adj Close  \\\n",
              "690   2014-10-01  48.439999  48.532001  47.130001  48.048000  48.048000   \n",
              "233   2012-12-06   6.764000   6.960000   6.700000   6.780000   6.780000   \n",
              "653   2014-08-08  50.231998  50.352001  49.299999  49.625999  49.625999   \n",
              "1179  2016-09-09  39.818001  39.984001  38.740002  38.894001  38.894001   \n",
              "315   2013-04-08   8.394000   8.510000   8.302000   8.366000   8.366000   \n",
              "\n",
              "        Volume  \n",
              "690   29708500  \n",
              "233    3302000  \n",
              "653   25450500  \n",
              "1179  18785000  \n",
              "315    8395000  "
            ],
            "text/html": [
              "\n",
              "  <div id=\"df-51ba8fb2-3576-43e8-b45f-1f3036c2f7d8\">\n",
              "    <div class=\"colab-df-container\">\n",
              "      <div>\n",
              "<style scoped>\n",
              "    .dataframe tbody tr th:only-of-type {\n",
              "        vertical-align: middle;\n",
              "    }\n",
              "\n",
              "    .dataframe tbody tr th {\n",
              "        vertical-align: top;\n",
              "    }\n",
              "\n",
              "    .dataframe thead th {\n",
              "        text-align: right;\n",
              "    }\n",
              "</style>\n",
              "<table border=\"1\" class=\"dataframe\">\n",
              "  <thead>\n",
              "    <tr style=\"text-align: right;\">\n",
              "      <th></th>\n",
              "      <th>Date</th>\n",
              "      <th>Open</th>\n",
              "      <th>High</th>\n",
              "      <th>Low</th>\n",
              "      <th>Close</th>\n",
              "      <th>Adj Close</th>\n",
              "      <th>Volume</th>\n",
              "    </tr>\n",
              "  </thead>\n",
              "  <tbody>\n",
              "    <tr>\n",
              "      <th>690</th>\n",
              "      <td>2014-10-01</td>\n",
              "      <td>48.439999</td>\n",
              "      <td>48.532001</td>\n",
              "      <td>47.130001</td>\n",
              "      <td>48.048000</td>\n",
              "      <td>48.048000</td>\n",
              "      <td>29708500</td>\n",
              "    </tr>\n",
              "    <tr>\n",
              "      <th>233</th>\n",
              "      <td>2012-12-06</td>\n",
              "      <td>6.764000</td>\n",
              "      <td>6.960000</td>\n",
              "      <td>6.700000</td>\n",
              "      <td>6.780000</td>\n",
              "      <td>6.780000</td>\n",
              "      <td>3302000</td>\n",
              "    </tr>\n",
              "    <tr>\n",
              "      <th>653</th>\n",
              "      <td>2014-08-08</td>\n",
              "      <td>50.231998</td>\n",
              "      <td>50.352001</td>\n",
              "      <td>49.299999</td>\n",
              "      <td>49.625999</td>\n",
              "      <td>49.625999</td>\n",
              "      <td>25450500</td>\n",
              "    </tr>\n",
              "    <tr>\n",
              "      <th>1179</th>\n",
              "      <td>2016-09-09</td>\n",
              "      <td>39.818001</td>\n",
              "      <td>39.984001</td>\n",
              "      <td>38.740002</td>\n",
              "      <td>38.894001</td>\n",
              "      <td>38.894001</td>\n",
              "      <td>18785000</td>\n",
              "    </tr>\n",
              "    <tr>\n",
              "      <th>315</th>\n",
              "      <td>2013-04-08</td>\n",
              "      <td>8.394000</td>\n",
              "      <td>8.510000</td>\n",
              "      <td>8.302000</td>\n",
              "      <td>8.366000</td>\n",
              "      <td>8.366000</td>\n",
              "      <td>8395000</td>\n",
              "    </tr>\n",
              "  </tbody>\n",
              "</table>\n",
              "</div>\n",
              "      <button class=\"colab-df-convert\" onclick=\"convertToInteractive('df-51ba8fb2-3576-43e8-b45f-1f3036c2f7d8')\"\n",
              "              title=\"Convert this dataframe to an interactive table.\"\n",
              "              style=\"display:none;\">\n",
              "        \n",
              "  <svg xmlns=\"http://www.w3.org/2000/svg\" height=\"24px\"viewBox=\"0 0 24 24\"\n",
              "       width=\"24px\">\n",
              "    <path d=\"M0 0h24v24H0V0z\" fill=\"none\"/>\n",
              "    <path d=\"M18.56 5.44l.94 2.06.94-2.06 2.06-.94-2.06-.94-.94-2.06-.94 2.06-2.06.94zm-11 1L8.5 8.5l.94-2.06 2.06-.94-2.06-.94L8.5 2.5l-.94 2.06-2.06.94zm10 10l.94 2.06.94-2.06 2.06-.94-2.06-.94-.94-2.06-.94 2.06-2.06.94z\"/><path d=\"M17.41 7.96l-1.37-1.37c-.4-.4-.92-.59-1.43-.59-.52 0-1.04.2-1.43.59L10.3 9.45l-7.72 7.72c-.78.78-.78 2.05 0 2.83L4 21.41c.39.39.9.59 1.41.59.51 0 1.02-.2 1.41-.59l7.78-7.78 2.81-2.81c.8-.78.8-2.07 0-2.86zM5.41 20L4 18.59l7.72-7.72 1.47 1.35L5.41 20z\"/>\n",
              "  </svg>\n",
              "      </button>\n",
              "      \n",
              "  <style>\n",
              "    .colab-df-container {\n",
              "      display:flex;\n",
              "      flex-wrap:wrap;\n",
              "      gap: 12px;\n",
              "    }\n",
              "\n",
              "    .colab-df-convert {\n",
              "      background-color: #E8F0FE;\n",
              "      border: none;\n",
              "      border-radius: 50%;\n",
              "      cursor: pointer;\n",
              "      display: none;\n",
              "      fill: #1967D2;\n",
              "      height: 32px;\n",
              "      padding: 0 0 0 0;\n",
              "      width: 32px;\n",
              "    }\n",
              "\n",
              "    .colab-df-convert:hover {\n",
              "      background-color: #E2EBFA;\n",
              "      box-shadow: 0px 1px 2px rgba(60, 64, 67, 0.3), 0px 1px 3px 1px rgba(60, 64, 67, 0.15);\n",
              "      fill: #174EA6;\n",
              "    }\n",
              "\n",
              "    [theme=dark] .colab-df-convert {\n",
              "      background-color: #3B4455;\n",
              "      fill: #D2E3FC;\n",
              "    }\n",
              "\n",
              "    [theme=dark] .colab-df-convert:hover {\n",
              "      background-color: #434B5C;\n",
              "      box-shadow: 0px 1px 3px 1px rgba(0, 0, 0, 0.15);\n",
              "      filter: drop-shadow(0px 1px 2px rgba(0, 0, 0, 0.3));\n",
              "      fill: #FFFFFF;\n",
              "    }\n",
              "  </style>\n",
              "\n",
              "      <script>\n",
              "        const buttonEl =\n",
              "          document.querySelector('#df-51ba8fb2-3576-43e8-b45f-1f3036c2f7d8 button.colab-df-convert');\n",
              "        buttonEl.style.display =\n",
              "          google.colab.kernel.accessAllowed ? 'block' : 'none';\n",
              "\n",
              "        async function convertToInteractive(key) {\n",
              "          const element = document.querySelector('#df-51ba8fb2-3576-43e8-b45f-1f3036c2f7d8');\n",
              "          const dataTable =\n",
              "            await google.colab.kernel.invokeFunction('convertToInteractive',\n",
              "                                                     [key], {});\n",
              "          if (!dataTable) return;\n",
              "\n",
              "          const docLinkHtml = 'Like what you see? Visit the ' +\n",
              "            '<a target=\"_blank\" href=https://colab.research.google.com/notebooks/data_table.ipynb>data table notebook</a>'\n",
              "            + ' to learn more about interactive tables.';\n",
              "          element.innerHTML = '';\n",
              "          dataTable['output_type'] = 'display_data';\n",
              "          await google.colab.output.renderOutput(dataTable, element);\n",
              "          const docLink = document.createElement('div');\n",
              "          docLink.innerHTML = docLinkHtml;\n",
              "          element.appendChild(docLink);\n",
              "        }\n",
              "      </script>\n",
              "    </div>\n",
              "  </div>\n",
              "  "
            ]
          },
          "metadata": {},
          "execution_count": 3
        }
      ]
    },
    {
      "cell_type": "code",
      "metadata": {
        "id": "iiORNaHaE5f3",
        "colab": {
          "base_uri": "https://localhost:8080/",
          "height": 300
        },
        "outputId": "dfd360fb-36f9-4151-8aa6-8ac92ced9d24"
      },
      "source": [
        "# Statistical summary\n",
        "train_df.describe()"
      ],
      "execution_count": 4,
      "outputs": [
        {
          "output_type": "execute_result",
          "data": {
            "text/plain": [
              "              Open         High          Low        Close    Adj Close  \\\n",
              "count  1258.000000  1258.000000  1258.000000  1258.000000  1258.000000   \n",
              "mean     31.997898    32.558671    31.403696    31.989245    31.989245   \n",
              "std      16.911515    17.148543    16.649245    16.903500    16.903500   \n",
              "min       5.324000     5.370000     4.528000     4.558000     4.558000   \n",
              "25%       8.403000     8.556000     8.197000     8.379500     8.379500   \n",
              "50%      39.411000    40.123998    38.709000    39.427000    39.427000   \n",
              "75%      45.214499    45.934999    44.303000    45.076502    45.076502   \n",
              "max      57.534000    58.284000    56.080002    57.208000    57.208000   \n",
              "\n",
              "             Volume  \n",
              "count  1.258000e+03  \n",
              "mean   2.551310e+07  \n",
              "std    2.259037e+07  \n",
              "min    1.824500e+06  \n",
              "25%    1.059400e+07  \n",
              "50%    2.007650e+07  \n",
              "75%    3.245150e+07  \n",
              "max    1.858195e+08  "
            ],
            "text/html": [
              "\n",
              "  <div id=\"df-5c00dd4e-0409-49fb-8c46-16cf6e2ee9f5\">\n",
              "    <div class=\"colab-df-container\">\n",
              "      <div>\n",
              "<style scoped>\n",
              "    .dataframe tbody tr th:only-of-type {\n",
              "        vertical-align: middle;\n",
              "    }\n",
              "\n",
              "    .dataframe tbody tr th {\n",
              "        vertical-align: top;\n",
              "    }\n",
              "\n",
              "    .dataframe thead th {\n",
              "        text-align: right;\n",
              "    }\n",
              "</style>\n",
              "<table border=\"1\" class=\"dataframe\">\n",
              "  <thead>\n",
              "    <tr style=\"text-align: right;\">\n",
              "      <th></th>\n",
              "      <th>Open</th>\n",
              "      <th>High</th>\n",
              "      <th>Low</th>\n",
              "      <th>Close</th>\n",
              "      <th>Adj Close</th>\n",
              "      <th>Volume</th>\n",
              "    </tr>\n",
              "  </thead>\n",
              "  <tbody>\n",
              "    <tr>\n",
              "      <th>count</th>\n",
              "      <td>1258.000000</td>\n",
              "      <td>1258.000000</td>\n",
              "      <td>1258.000000</td>\n",
              "      <td>1258.000000</td>\n",
              "      <td>1258.000000</td>\n",
              "      <td>1.258000e+03</td>\n",
              "    </tr>\n",
              "    <tr>\n",
              "      <th>mean</th>\n",
              "      <td>31.997898</td>\n",
              "      <td>32.558671</td>\n",
              "      <td>31.403696</td>\n",
              "      <td>31.989245</td>\n",
              "      <td>31.989245</td>\n",
              "      <td>2.551310e+07</td>\n",
              "    </tr>\n",
              "    <tr>\n",
              "      <th>std</th>\n",
              "      <td>16.911515</td>\n",
              "      <td>17.148543</td>\n",
              "      <td>16.649245</td>\n",
              "      <td>16.903500</td>\n",
              "      <td>16.903500</td>\n",
              "      <td>2.259037e+07</td>\n",
              "    </tr>\n",
              "    <tr>\n",
              "      <th>min</th>\n",
              "      <td>5.324000</td>\n",
              "      <td>5.370000</td>\n",
              "      <td>4.528000</td>\n",
              "      <td>4.558000</td>\n",
              "      <td>4.558000</td>\n",
              "      <td>1.824500e+06</td>\n",
              "    </tr>\n",
              "    <tr>\n",
              "      <th>25%</th>\n",
              "      <td>8.403000</td>\n",
              "      <td>8.556000</td>\n",
              "      <td>8.197000</td>\n",
              "      <td>8.379500</td>\n",
              "      <td>8.379500</td>\n",
              "      <td>1.059400e+07</td>\n",
              "    </tr>\n",
              "    <tr>\n",
              "      <th>50%</th>\n",
              "      <td>39.411000</td>\n",
              "      <td>40.123998</td>\n",
              "      <td>38.709000</td>\n",
              "      <td>39.427000</td>\n",
              "      <td>39.427000</td>\n",
              "      <td>2.007650e+07</td>\n",
              "    </tr>\n",
              "    <tr>\n",
              "      <th>75%</th>\n",
              "      <td>45.214499</td>\n",
              "      <td>45.934999</td>\n",
              "      <td>44.303000</td>\n",
              "      <td>45.076502</td>\n",
              "      <td>45.076502</td>\n",
              "      <td>3.245150e+07</td>\n",
              "    </tr>\n",
              "    <tr>\n",
              "      <th>max</th>\n",
              "      <td>57.534000</td>\n",
              "      <td>58.284000</td>\n",
              "      <td>56.080002</td>\n",
              "      <td>57.208000</td>\n",
              "      <td>57.208000</td>\n",
              "      <td>1.858195e+08</td>\n",
              "    </tr>\n",
              "  </tbody>\n",
              "</table>\n",
              "</div>\n",
              "      <button class=\"colab-df-convert\" onclick=\"convertToInteractive('df-5c00dd4e-0409-49fb-8c46-16cf6e2ee9f5')\"\n",
              "              title=\"Convert this dataframe to an interactive table.\"\n",
              "              style=\"display:none;\">\n",
              "        \n",
              "  <svg xmlns=\"http://www.w3.org/2000/svg\" height=\"24px\"viewBox=\"0 0 24 24\"\n",
              "       width=\"24px\">\n",
              "    <path d=\"M0 0h24v24H0V0z\" fill=\"none\"/>\n",
              "    <path d=\"M18.56 5.44l.94 2.06.94-2.06 2.06-.94-2.06-.94-.94-2.06-.94 2.06-2.06.94zm-11 1L8.5 8.5l.94-2.06 2.06-.94-2.06-.94L8.5 2.5l-.94 2.06-2.06.94zm10 10l.94 2.06.94-2.06 2.06-.94-2.06-.94-.94-2.06-.94 2.06-2.06.94z\"/><path d=\"M17.41 7.96l-1.37-1.37c-.4-.4-.92-.59-1.43-.59-.52 0-1.04.2-1.43.59L10.3 9.45l-7.72 7.72c-.78.78-.78 2.05 0 2.83L4 21.41c.39.39.9.59 1.41.59.51 0 1.02-.2 1.41-.59l7.78-7.78 2.81-2.81c.8-.78.8-2.07 0-2.86zM5.41 20L4 18.59l7.72-7.72 1.47 1.35L5.41 20z\"/>\n",
              "  </svg>\n",
              "      </button>\n",
              "      \n",
              "  <style>\n",
              "    .colab-df-container {\n",
              "      display:flex;\n",
              "      flex-wrap:wrap;\n",
              "      gap: 12px;\n",
              "    }\n",
              "\n",
              "    .colab-df-convert {\n",
              "      background-color: #E8F0FE;\n",
              "      border: none;\n",
              "      border-radius: 50%;\n",
              "      cursor: pointer;\n",
              "      display: none;\n",
              "      fill: #1967D2;\n",
              "      height: 32px;\n",
              "      padding: 0 0 0 0;\n",
              "      width: 32px;\n",
              "    }\n",
              "\n",
              "    .colab-df-convert:hover {\n",
              "      background-color: #E2EBFA;\n",
              "      box-shadow: 0px 1px 2px rgba(60, 64, 67, 0.3), 0px 1px 3px 1px rgba(60, 64, 67, 0.15);\n",
              "      fill: #174EA6;\n",
              "    }\n",
              "\n",
              "    [theme=dark] .colab-df-convert {\n",
              "      background-color: #3B4455;\n",
              "      fill: #D2E3FC;\n",
              "    }\n",
              "\n",
              "    [theme=dark] .colab-df-convert:hover {\n",
              "      background-color: #434B5C;\n",
              "      box-shadow: 0px 1px 3px 1px rgba(0, 0, 0, 0.15);\n",
              "      filter: drop-shadow(0px 1px 2px rgba(0, 0, 0, 0.3));\n",
              "      fill: #FFFFFF;\n",
              "    }\n",
              "  </style>\n",
              "\n",
              "      <script>\n",
              "        const buttonEl =\n",
              "          document.querySelector('#df-5c00dd4e-0409-49fb-8c46-16cf6e2ee9f5 button.colab-df-convert');\n",
              "        buttonEl.style.display =\n",
              "          google.colab.kernel.accessAllowed ? 'block' : 'none';\n",
              "\n",
              "        async function convertToInteractive(key) {\n",
              "          const element = document.querySelector('#df-5c00dd4e-0409-49fb-8c46-16cf6e2ee9f5');\n",
              "          const dataTable =\n",
              "            await google.colab.kernel.invokeFunction('convertToInteractive',\n",
              "                                                     [key], {});\n",
              "          if (!dataTable) return;\n",
              "\n",
              "          const docLinkHtml = 'Like what you see? Visit the ' +\n",
              "            '<a target=\"_blank\" href=https://colab.research.google.com/notebooks/data_table.ipynb>data table notebook</a>'\n",
              "            + ' to learn more about interactive tables.';\n",
              "          element.innerHTML = '';\n",
              "          dataTable['output_type'] = 'display_data';\n",
              "          await google.colab.output.renderOutput(dataTable, element);\n",
              "          const docLink = document.createElement('div');\n",
              "          docLink.innerHTML = docLinkHtml;\n",
              "          element.appendChild(docLink);\n",
              "        }\n",
              "      </script>\n",
              "    </div>\n",
              "  </div>\n",
              "  "
            ]
          },
          "metadata": {},
          "execution_count": 4
        }
      ]
    },
    {
      "cell_type": "code",
      "source": [
        "# check data types of training set\n",
        "train_df.dtypes"
      ],
      "metadata": {
        "colab": {
          "base_uri": "https://localhost:8080/"
        },
        "id": "ZkFC9cNsN6HU",
        "outputId": "393b7e72-8c44-4e9c-f542-2d1b6c0a6cf7"
      },
      "execution_count": 5,
      "outputs": [
        {
          "output_type": "execute_result",
          "data": {
            "text/plain": [
              "Date          object\n",
              "Open         float64\n",
              "High         float64\n",
              "Low          float64\n",
              "Close        float64\n",
              "Adj Close    float64\n",
              "Volume         int64\n",
              "dtype: object"
            ]
          },
          "metadata": {},
          "execution_count": 5
        }
      ]
    },
    {
      "cell_type": "code",
      "source": [
        "# check shape\n",
        "train_df.shape"
      ],
      "metadata": {
        "colab": {
          "base_uri": "https://localhost:8080/"
        },
        "id": "MP0JXCeDOFZZ",
        "outputId": "74f3c8b8-9859-4634-e5a0-c4c21eae43ed"
      },
      "execution_count": 6,
      "outputs": [
        {
          "output_type": "execute_result",
          "data": {
            "text/plain": [
              "(1258, 7)"
            ]
          },
          "metadata": {},
          "execution_count": 6
        }
      ]
    },
    {
      "cell_type": "code",
      "source": [
        "# drop duplicates if any\n",
        "train_df.drop_duplicates(inplace = True)\n",
        "train_df.shape"
      ],
      "metadata": {
        "colab": {
          "base_uri": "https://localhost:8080/"
        },
        "id": "BHIYD--fOR3o",
        "outputId": "0af073d0-a47c-4f80-a6db-484f7ff23eca"
      },
      "execution_count": 7,
      "outputs": [
        {
          "output_type": "execute_result",
          "data": {
            "text/plain": [
              "(1258, 7)"
            ]
          },
          "metadata": {},
          "execution_count": 7
        }
      ]
    },
    {
      "cell_type": "code",
      "source": [
        "# check for missing data\n",
        "train_df.isna().sum()"
      ],
      "metadata": {
        "colab": {
          "base_uri": "https://localhost:8080/"
        },
        "id": "HxoWwcGkOcEP",
        "outputId": "57cf66da-d027-453d-9afa-d8c99e7dcea1"
      },
      "execution_count": 8,
      "outputs": [
        {
          "output_type": "execute_result",
          "data": {
            "text/plain": [
              "Date         0\n",
              "Open         0\n",
              "High         0\n",
              "Low          0\n",
              "Close        0\n",
              "Adj Close    0\n",
              "Volume       0\n",
              "dtype: int64"
            ]
          },
          "metadata": {},
          "execution_count": 8
        }
      ]
    },
    {
      "cell_type": "code",
      "source": [
        "# visualize the distribution of outliers\n",
        "plt.figure(figsize = (10, 10))\n",
        "train_df.boxplot()\n",
        "plt.show()"
      ],
      "metadata": {
        "colab": {
          "base_uri": "https://localhost:8080/",
          "height": 602
        },
        "id": "HRrKcRZGOj-S",
        "outputId": "c4098ee7-16f0-47bb-cd5b-1e4c8bee1616"
      },
      "execution_count": 9,
      "outputs": [
        {
          "output_type": "display_data",
          "data": {
            "text/plain": [
              "<Figure size 720x720 with 1 Axes>"
            ],
            "image/png": "[encoded data removed]"
          },
          "metadata": {
            "needs_background": "light"
          }
        }
      ]
    },
    {
      "cell_type": "markdown",
      "metadata": {
        "id": "uVLc3iMCE48d"
      },
      "source": [
        "## Data Preparation"
      ]
    },
    {
      "cell_type": "code",
      "source": [
        "# Open is our desired feature for prediction.\n",
        "train_set = train_df.iloc[:, 1:2].values\n",
        "print(train_set)"
      ],
      "metadata": {
        "colab": {
          "base_uri": "https://localhost:8080/"
        },
        "id": "3ywrb0jOO2jI",
        "outputId": "e811e98f-b278-47d3-ace9-888772a6439f"
      },
      "execution_count": 10,
      "outputs": [
        {
          "output_type": "stream",
          "name": "stdout",
          "text": [
            "[[ 5.788   ]\n",
            " [ 5.642   ]\n",
            " [ 5.552   ]\n",
            " ...\n",
            " [44.306   ]\n",
            " [43.712002]\n",
            " [43.259998]]\n"
          ]
        }
      ]
    },
    {
      "cell_type": "code",
      "source": [
        "len(train_set)"
      ],
      "metadata": {
        "colab": {
          "base_uri": "https://localhost:8080/"
        },
        "id": "ZC5OekeAf5J3",
        "outputId": "d962492b-f273-447f-a9a9-08dd6c07d80f"
      },
      "execution_count": 11,
      "outputs": [
        {
          "output_type": "execute_result",
          "data": {
            "text/plain": [
              "1258"
            ]
          },
          "metadata": {},
          "execution_count": 11
        }
      ]
    },
    {
      "cell_type": "code",
      "metadata": {
        "id": "fBavdYmaDaQj",
        "colab": {
          "base_uri": "https://localhost:8080/"
        },
        "outputId": "aafc23d0-2211-4a3d-9b78-b3281113fd1c"
      },
      "source": [
        "# feature scaling: Normalisation.  We do this because the values in the training dataset are not in the same range. \n",
        "from sklearn.preprocessing import MinMaxScaler\n",
        "sc =  MinMaxScaler(feature_range = (0, 1))\n",
        "train_set_scaled = sc.fit_transform(train_set)\n",
        "print(train_set_scaled)"
      ],
      "execution_count": 12,
      "outputs": [
        {
          "output_type": "stream",
          "name": "stdout",
          "text": [
            "[[0.00888719]\n",
            " [0.00609079]\n",
            " [0.00436698]\n",
            " ...\n",
            " [0.74663857]\n",
            " [0.73526148]\n",
            " [0.72660406]]\n"
          ]
        }
      ]
    },
    {
      "cell_type": "code",
      "metadata": {
        "id": "Hdkim4BCDgdi"
      },
      "source": [
        "# Create a dataset with 60 timesteps and 1 output\n",
        "\n",
        "# a nested list, which will contain lists of 60 time-stamp prices. \n",
        "X_train = []\n",
        "\n",
        " # will contain a list of stock prices which is the next day stock price, corresponding to each list in X_train\n",
        "Y_train = []\n",
        "\n",
        "for i in range(60, 1258):\n",
        "    X_train.append(train_set_scaled[i-60:i, 0])\n",
        "    Y_train.append(train_set_scaled[i, 0])\n",
        "\n",
        "X_train, Y_train = np.array(X_train), np.array(Y_train)"
      ],
      "execution_count": 14,
      "outputs": []
    },
    {
      "cell_type": "code",
      "source": [
        "# preview X_train\n",
        "print(X_train)"
      ],
      "metadata": {
        "colab": {
          "base_uri": "https://localhost:8080/"
        },
        "id": "AHqDuIe0RGpl",
        "outputId": "6d8bfd26-c946-49ca-f730-6487506519dd"
      },
      "execution_count": 15,
      "outputs": [
        {
          "output_type": "stream",
          "name": "stdout",
          "text": [
            "[[0.00888719 0.00609079 0.00436698 ... 0.03436123 0.04037541 0.04275043]\n",
            " [0.00609079 0.00436698 0.0022218  ... 0.04037541 0.04275043 0.04432101]\n",
            " [0.00436698 0.0022218  0.00145566 ... 0.04275043 0.04432101 0.04175445]\n",
            " ...\n",
            " [0.71128134 0.71434589 0.71105156 ... 0.69565219 0.69480939 0.72116457]\n",
            " [0.71434589 0.71105156 0.67358745 ... 0.69480939 0.72116457 0.74663857]\n",
            " [0.71105156 0.67358745 0.66799466 ... 0.72116457 0.74663857 0.73526148]]\n"
          ]
        }
      ]
    },
    {
      "cell_type": "code",
      "source": [
        "# preview Y_train\n",
        "print(Y_train)"
      ],
      "metadata": {
        "colab": {
          "base_uri": "https://localhost:8080/"
        },
        "id": "bK3l5gbPRNq5",
        "outputId": "07bf3347-df7d-424d-b760-2023ec5b8a64"
      },
      "execution_count": 16,
      "outputs": [
        {
          "output_type": "stream",
          "name": "stdout",
          "text": [
            "[0.04432101 0.04175445 0.04102662 ... 0.74663857 0.73526148 0.72660406]\n"
          ]
        }
      ]
    },
    {
      "cell_type": "code",
      "metadata": {
        "id": "jcSQM2x8DlhI"
      },
      "source": [
        "''' reshape our dataset to have 3D shape, because the input to LSTM layer of our RNN \n",
        "should be in 3D shape i.e. (samples, time-steps, features/indicators).\n",
        "a. the samples are the number of samples in the input data.\n",
        "b. the time-steps is the number of time-steps per sample. \n",
        "c. features correspond to the number of features per time-step i.e. one feature per time-step.\n",
        "'''\n",
        "\n",
        "X_train = np.reshape(X_train, (X_train.shape[0], X_train.shape[1], 1))"
      ],
      "execution_count": 17,
      "outputs": []
    },
    {
      "cell_type": "code",
      "source": [
        "X_train.shape"
      ],
      "metadata": {
        "colab": {
          "base_uri": "https://localhost:8080/"
        },
        "id": "8RKKOnM1S_JM",
        "outputId": "3251ba69-ed45-49c1-ceac-6d7362f5a681"
      },
      "execution_count": 18,
      "outputs": [
        {
          "output_type": "execute_result",
          "data": {
            "text/plain": [
              "(1198, 60, 1)"
            ]
          },
          "metadata": {},
          "execution_count": 18
        }
      ]
    },
    {
      "cell_type": "code",
      "source": [
        "Y_train.shape"
      ],
      "metadata": {
        "colab": {
          "base_uri": "https://localhost:8080/"
        },
        "id": "_MXdrrJmgDux",
        "outputId": "4fe34a19-d1a7-408c-eb8b-c0c11ccd3a47"
      },
      "execution_count": 19,
      "outputs": [
        {
          "output_type": "execute_result",
          "data": {
            "text/plain": [
              "(1198,)"
            ]
          },
          "metadata": {},
          "execution_count": 19
        }
      ]
    },
    {
      "cell_type": "markdown",
      "metadata": {
        "id": "D4Qz7YGGHbee"
      },
      "source": [
        "##  Data Modeling"
      ]
    },
    {
      "cell_type": "markdown",
      "source": [
        "### Model Training"
      ],
      "metadata": {
        "id": "zVBOtPCe43-X"
      }
    },
    {
      "cell_type": "code",
      "source": [
        "# import the Keras libraries and packages\n",
        "import keras\n",
        "from keras.models import Sequential\n",
        "from keras.layers import Dense\n",
        "from keras.layers import LSTM\n",
        "from keras.layers import Dropout"
      ],
      "metadata": {
        "id": "UWGVTf7ATH18"
      },
      "execution_count": 20,
      "outputs": []
    },
    {
      "cell_type": "code",
      "metadata": {
        "id": "l-oXw1R5Dy7T"
      },
      "source": [
        "# Initialise the RNN\n",
        "regressor = Sequential()"
      ],
      "execution_count": 21,
      "outputs": []
    },
    {
      "cell_type": "code",
      "source": [
        "# Add 2 LSTM layers and some Dropout regularisation. \n",
        "# 'units' is the number of LSTM neurons in the layer.  'return_sequences' is True as we need to add another LSTM layer after the current one.\n",
        "# 'input_shape' corresponds to the number of time stamps and the number of indicators.\n",
        "#  For 'Dropout', 20% of 50 neurons will be ignored randomly during each iteration of training.\n",
        "\n",
        "regressor.add(LSTM(units = 50, return_sequences = True, input_shape = (X_train.shape[1], 1)))\n",
        "regressor.add(Dropout(0.2))\n",
        "\n",
        "regressor.add(LSTM(units = 50, return_sequences = False))\n",
        "regressor.add(Dropout(0.2))\n",
        "\n",
        "# Add output layer: 'output dimension' is 1 since we are predicting 1 price each time\n",
        "regressor.add(Dense(units = 1))"
      ],
      "metadata": {
        "id": "XOjIE4u7ThsL"
      },
      "execution_count": 22,
      "outputs": []
    },
    {
      "cell_type": "code",
      "metadata": {
        "id": "0nsqxXskD3IX"
      },
      "source": [
        "# Compile the RNN \n",
        "regressor.compile(optimizer = 'adam', loss = 'mean_squared_error')"
      ],
      "execution_count": 23,
      "outputs": []
    },
    {
      "cell_type": "code",
      "metadata": {
        "id": "obcll9uYD6od",
        "colab": {
          "base_uri": "https://localhost:8080/"
        },
        "outputId": "aad07def-29f1-467c-a639-c5aaea8f4d6d"
      },
      "source": [
        "# Fit the RNN to the training set\n",
        "regressor.fit(X_train, Y_train, epochs = 100, batch_size = 32)"
      ],
      "execution_count": 24,
      "outputs": [
        {
          "output_type": "stream",
          "name": "stdout",
          "text": [
            "Epoch 1/100\n",
            "38/38 [==============================] - 5s 9ms/step - loss: 0.0740\n",
            "Epoch 2/100\n",
            "38/38 [==============================] - 0s 8ms/step - loss: 0.0071\n",
            "Epoch 3/100\n",
            "38/38 [==============================] - 0s 8ms/step - loss: 0.0060\n",
            "Epoch 4/100\n",
            "38/38 [==============================] - 0s 8ms/step - loss: 0.0058\n",
            "Epoch 5/100\n",
            "38/38 [==============================] - 0s 8ms/step - loss: 0.0056\n",
            "Epoch 6/100\n",
            "38/38 [==============================] - 0s 8ms/step - loss: 0.0051\n",
            "Epoch 7/100\n",
            "38/38 [==============================] - 0s 8ms/step - loss: 0.0053\n",
            "Epoch 8/100\n",
            "38/38 [==============================] - 0s 8ms/step - loss: 0.0048\n",
            "Epoch 9/100\n",
            "38/38 [==============================] - 0s 8ms/step - loss: 0.0048\n",
            "Epoch 10/100\n",
            "38/38 [==============================] - 0s 8ms/step - loss: 0.0047\n",
            "Epoch 11/100\n",
            "38/38 [==============================] - 0s 8ms/step - loss: 0.0044\n",
            "Epoch 12/100\n",
            "38/38 [==============================] - 0s 8ms/step - loss: 0.0043\n",
            "Epoch 13/100\n",
            "38/38 [==============================] - 0s 8ms/step - loss: 0.0045\n",
            "Epoch 14/100\n",
            "38/38 [==============================] - 0s 8ms/step - loss: 0.0049\n",
            "Epoch 15/100\n",
            "38/38 [==============================] - 0s 8ms/step - loss: 0.0043\n",
            "Epoch 16/100\n",
            "38/38 [==============================] - 0s 8ms/step - loss: 0.0040\n",
            "Epoch 17/100\n",
            "38/38 [==============================] - 0s 8ms/step - loss: 0.0038\n",
            "Epoch 18/100\n",
            "38/38 [==============================] - 0s 8ms/step - loss: 0.0040\n",
            "Epoch 19/100\n",
            "38/38 [==============================] - 0s 8ms/step - loss: 0.0037\n",
            "Epoch 20/100\n",
            "38/38 [==============================] - 0s 8ms/step - loss: 0.0032\n",
            "Epoch 21/100\n",
            "38/38 [==============================] - 0s 8ms/step - loss: 0.0033\n",
            "Epoch 22/100\n",
            "38/38 [==============================] - 0s 8ms/step - loss: 0.0037\n",
            "Epoch 23/100\n",
            "38/38 [==============================] - 0s 8ms/step - loss: 0.0036\n",
            "Epoch 24/100\n",
            "38/38 [==============================] - 0s 8ms/step - loss: 0.0034\n",
            "Epoch 25/100\n",
            "38/38 [==============================] - 0s 8ms/step - loss: 0.0036\n",
            "Epoch 26/100\n",
            "38/38 [==============================] - 0s 8ms/step - loss: 0.0031\n",
            "Epoch 27/100\n",
            "38/38 [==============================] - 0s 8ms/step - loss: 0.0034\n",
            "Epoch 28/100\n",
            "38/38 [==============================] - 0s 8ms/step - loss: 0.0033\n",
            "Epoch 29/100\n",
            "38/38 [==============================] - 0s 8ms/step - loss: 0.0034\n",
            "Epoch 30/100\n",
            "38/38 [==============================] - 0s 8ms/step - loss: 0.0031\n",
            "Epoch 31/100\n",
            "38/38 [==============================] - 0s 8ms/step - loss: 0.0031\n",
            "Epoch 32/100\n",
            "38/38 [==============================] - 0s 8ms/step - loss: 0.0030\n",
            "Epoch 33/100\n",
            "38/38 [==============================] - 0s 8ms/step - loss: 0.0033\n",
            "Epoch 34/100\n",
            "38/38 [==============================] - 0s 8ms/step - loss: 0.0031\n",
            "Epoch 35/100\n",
            "38/38 [==============================] - 0s 8ms/step - loss: 0.0030\n",
            "Epoch 36/100\n",
            "38/38 [==============================] - 0s 8ms/step - loss: 0.0035\n",
            "Epoch 37/100\n",
            "38/38 [==============================] - 0s 8ms/step - loss: 0.0029\n",
            "Epoch 38/100\n",
            "38/38 [==============================] - 0s 8ms/step - loss: 0.0027\n",
            "Epoch 39/100\n",
            "38/38 [==============================] - 0s 8ms/step - loss: 0.0030\n",
            "Epoch 40/100\n",
            "38/38 [==============================] - 0s 8ms/step - loss: 0.0029\n",
            "Epoch 41/100\n",
            "38/38 [==============================] - 0s 8ms/step - loss: 0.0029\n",
            "Epoch 42/100\n",
            "38/38 [==============================] - 0s 8ms/step - loss: 0.0028\n",
            "Epoch 43/100\n",
            "38/38 [==============================] - 0s 8ms/step - loss: 0.0028\n",
            "Epoch 44/100\n",
            "38/38 [==============================] - 0s 8ms/step - loss: 0.0028\n",
            "Epoch 45/100\n",
            "38/38 [==============================] - 0s 7ms/step - loss: 0.0030\n",
            "Epoch 46/100\n",
            "38/38 [==============================] - 0s 8ms/step - loss: 0.0031\n",
            "Epoch 47/100\n",
            "38/38 [==============================] - 0s 8ms/step - loss: 0.0029\n",
            "Epoch 48/100\n",
            "38/38 [==============================] - 0s 8ms/step - loss: 0.0028\n",
            "Epoch 49/100\n",
            "38/38 [==============================] - 0s 8ms/step - loss: 0.0031\n",
            "Epoch 50/100\n",
            "38/38 [==============================] - 0s 8ms/step - loss: 0.0027\n",
            "Epoch 51/100\n",
            "38/38 [==============================] - 0s 8ms/step - loss: 0.0024\n",
            "Epoch 52/100\n",
            "38/38 [==============================] - 0s 8ms/step - loss: 0.0025\n",
            "Epoch 53/100\n",
            "38/38 [==============================] - 0s 8ms/step - loss: 0.0025\n",
            "Epoch 54/100\n",
            "38/38 [==============================] - 0s 8ms/step - loss: 0.0028\n",
            "Epoch 55/100\n",
            "38/38 [==============================] - 0s 8ms/step - loss: 0.0024\n",
            "Epoch 56/100\n",
            "38/38 [==============================] - 0s 8ms/step - loss: 0.0024\n",
            "Epoch 57/100\n",
            "38/38 [==============================] - 0s 8ms/step - loss: 0.0027\n",
            "Epoch 58/100\n",
            "38/38 [==============================] - 0s 8ms/step - loss: 0.0024\n",
            "Epoch 59/100\n",
            "38/38 [==============================] - 0s 8ms/step - loss: 0.0024\n",
            "Epoch 60/100\n",
            "38/38 [==============================] - 0s 8ms/step - loss: 0.0025\n",
            "Epoch 61/100\n",
            "38/38 [==============================] - 0s 8ms/step - loss: 0.0022\n",
            "Epoch 62/100\n",
            "38/38 [==============================] - 0s 8ms/step - loss: 0.0024\n",
            "Epoch 63/100\n",
            "38/38 [==============================] - 0s 8ms/step - loss: 0.0021\n",
            "Epoch 64/100\n",
            "38/38 [==============================] - 0s 8ms/step - loss: 0.0023\n",
            "Epoch 65/100\n",
            "38/38 [==============================] - 0s 8ms/step - loss: 0.0022\n",
            "Epoch 66/100\n",
            "38/38 [==============================] - 0s 12ms/step - loss: 0.0023\n",
            "Epoch 67/100\n",
            "38/38 [==============================] - 0s 13ms/step - loss: 0.0022\n",
            "Epoch 68/100\n",
            "38/38 [==============================] - 0s 12ms/step - loss: 0.0022\n",
            "Epoch 69/100\n",
            "38/38 [==============================] - 0s 12ms/step - loss: 0.0022\n",
            "Epoch 70/100\n",
            "38/38 [==============================] - 0s 12ms/step - loss: 0.0020\n",
            "Epoch 71/100\n",
            "38/38 [==============================] - 0s 11ms/step - loss: 0.0021\n",
            "Epoch 72/100\n",
            "38/38 [==============================] - 0s 11ms/step - loss: 0.0020\n",
            "Epoch 73/100\n",
            "38/38 [==============================] - 0s 11ms/step - loss: 0.0020\n",
            "Epoch 74/100\n",
            "38/38 [==============================] - 0s 8ms/step - loss: 0.0020\n",
            "Epoch 75/100\n",
            "38/38 [==============================] - 0s 8ms/step - loss: 0.0021\n",
            "Epoch 76/100\n",
            "38/38 [==============================] - 0s 7ms/step - loss: 0.0021\n",
            "Epoch 77/100\n",
            "38/38 [==============================] - 0s 8ms/step - loss: 0.0019\n",
            "Epoch 78/100\n",
            "38/38 [==============================] - 0s 8ms/step - loss: 0.0019\n",
            "Epoch 79/100\n",
            "38/38 [==============================] - 0s 8ms/step - loss: 0.0019\n",
            "Epoch 80/100\n",
            "38/38 [==============================] - 0s 8ms/step - loss: 0.0020\n",
            "Epoch 81/100\n",
            "38/38 [==============================] - 0s 8ms/step - loss: 0.0018\n",
            "Epoch 82/100\n",
            "38/38 [==============================] - 0s 8ms/step - loss: 0.0019\n",
            "Epoch 83/100\n",
            "38/38 [==============================] - 0s 8ms/step - loss: 0.0019\n",
            "Epoch 84/100\n",
            "38/38 [==============================] - 0s 8ms/step - loss: 0.0017\n",
            "Epoch 85/100\n",
            "38/38 [==============================] - 0s 8ms/step - loss: 0.0019\n",
            "Epoch 86/100\n",
            "38/38 [==============================] - 0s 8ms/step - loss: 0.0019\n",
            "Epoch 87/100\n",
            "38/38 [==============================] - 0s 8ms/step - loss: 0.0019\n",
            "Epoch 88/100\n",
            "38/38 [==============================] - 0s 8ms/step - loss: 0.0017\n",
            "Epoch 89/100\n",
            "38/38 [==============================] - 0s 8ms/step - loss: 0.0018\n",
            "Epoch 90/100\n",
            "38/38 [==============================] - 0s 8ms/step - loss: 0.0017\n",
            "Epoch 91/100\n",
            "38/38 [==============================] - 0s 8ms/step - loss: 0.0017\n",
            "Epoch 92/100\n",
            "38/38 [==============================] - 0s 8ms/step - loss: 0.0017\n",
            "Epoch 93/100\n",
            "38/38 [==============================] - 0s 8ms/step - loss: 0.0022\n",
            "Epoch 94/100\n",
            "38/38 [==============================] - 1s 13ms/step - loss: 0.0018\n",
            "Epoch 95/100\n",
            "38/38 [==============================] - 1s 15ms/step - loss: 0.0018\n",
            "Epoch 96/100\n",
            "38/38 [==============================] - 0s 11ms/step - loss: 0.0017\n",
            "Epoch 97/100\n",
            "38/38 [==============================] - 0s 11ms/step - loss: 0.0016\n",
            "Epoch 98/100\n",
            "38/38 [==============================] - 0s 12ms/step - loss: 0.0017\n",
            "Epoch 99/100\n",
            "38/38 [==============================] - 0s 11ms/step - loss: 0.0016\n",
            "Epoch 100/100\n",
            "38/38 [==============================] - 0s 11ms/step - loss: 0.0015\n"
          ]
        },
        {
          "output_type": "execute_result",
          "data": {
            "text/plain": [
              "<keras.callbacks.History at 0x7fa9365fefd0>"
            ]
          },
          "metadata": {},
          "execution_count": 24
        }
      ]
    },
    {
      "cell_type": "markdown",
      "source": [
        "### Model Testing"
      ],
      "metadata": {
        "id": "Rc5qlQwX41iW"
      }
    },
    {
      "cell_type": "code",
      "source": [
        "# load test dataset\n",
        "test_df = pd.read_csv('https://bit.ly/3kW8E0K')\n",
        "test_df.head()"
      ],
      "metadata": {
        "colab": {
          "base_uri": "https://localhost:8080/",
          "height": 206
        },
        "id": "EWhTU0WOVqbi",
        "outputId": "71bac0ab-dc7d-4dd7-8612-61da21fc68f1"
      },
      "execution_count": 25,
      "outputs": [
        {
          "output_type": "execute_result",
          "data": {
            "text/plain": [
              "         Date       Open       High        Low      Close  Adj Close  \\\n",
              "0  2020-01-06  88.094002  90.311996  88.000000  90.307999  90.307999   \n",
              "1  2020-01-07  92.279999  94.325996  90.671997  93.811996  93.811996   \n",
              "2  2020-01-08  94.739998  99.697998  93.646004  98.428001  98.428001   \n",
              "3  2020-01-09  99.419998  99.760002  94.573997  96.267998  96.267998   \n",
              "4  2020-01-10  96.358002  96.987999  94.739998  95.629997  95.629997   \n",
              "\n",
              "      Volume  \n",
              "0   50665000  \n",
              "1   89410500  \n",
              "2  155721500  \n",
              "3  142202000  \n",
              "4   64797500  "
            ],
            "text/html": [
              "\n",
              "  <div id=\"df-066577da-adaf-48bc-a526-c4ac6481f9c6\">\n",
              "    <div class=\"colab-df-container\">\n",
              "      <div>\n",
              "<style scoped>\n",
              "    .dataframe tbody tr th:only-of-type {\n",
              "        vertical-align: middle;\n",
              "    }\n",
              "\n",
              "    .dataframe tbody tr th {\n",
              "        vertical-align: top;\n",
              "    }\n",
              "\n",
              "    .dataframe thead th {\n",
              "        text-align: right;\n",
              "    }\n",
              "</style>\n",
              "<table border=\"1\" class=\"dataframe\">\n",
              "  <thead>\n",
              "    <tr style=\"text-align: right;\">\n",
              "      <th></th>\n",
              "      <th>Date</th>\n",
              "      <th>Open</th>\n",
              "      <th>High</th>\n",
              "      <th>Low</th>\n",
              "      <th>Close</th>\n",
              "      <th>Adj Close</th>\n",
              "      <th>Volume</th>\n",
              "    </tr>\n",
              "  </thead>\n",
              "  <tbody>\n",
              "    <tr>\n",
              "      <th>0</th>\n",
              "      <td>2020-01-06</td>\n",
              "      <td>88.094002</td>\n",
              "      <td>90.311996</td>\n",
              "      <td>88.000000</td>\n",
              "      <td>90.307999</td>\n",
              "      <td>90.307999</td>\n",
              "      <td>50665000</td>\n",
              "    </tr>\n",
              "    <tr>\n",
              "      <th>1</th>\n",
              "      <td>2020-01-07</td>\n",
              "      <td>92.279999</td>\n",
              "      <td>94.325996</td>\n",
              "      <td>90.671997</td>\n",
              "      <td>93.811996</td>\n",
              "      <td>93.811996</td>\n",
              "      <td>89410500</td>\n",
              "    </tr>\n",
              "    <tr>\n",
              "      <th>2</th>\n",
              "      <td>2020-01-08</td>\n",
              "      <td>94.739998</td>\n",
              "      <td>99.697998</td>\n",
              "      <td>93.646004</td>\n",
              "      <td>98.428001</td>\n",
              "      <td>98.428001</td>\n",
              "      <td>155721500</td>\n",
              "    </tr>\n",
              "    <tr>\n",
              "      <th>3</th>\n",
              "      <td>2020-01-09</td>\n",
              "      <td>99.419998</td>\n",
              "      <td>99.760002</td>\n",
              "      <td>94.573997</td>\n",
              "      <td>96.267998</td>\n",
              "      <td>96.267998</td>\n",
              "      <td>142202000</td>\n",
              "    </tr>\n",
              "    <tr>\n",
              "      <th>4</th>\n",
              "      <td>2020-01-10</td>\n",
              "      <td>96.358002</td>\n",
              "      <td>96.987999</td>\n",
              "      <td>94.739998</td>\n",
              "      <td>95.629997</td>\n",
              "      <td>95.629997</td>\n",
              "      <td>64797500</td>\n",
              "    </tr>\n",
              "  </tbody>\n",
              "</table>\n",
              "</div>\n",
              "      <button class=\"colab-df-convert\" onclick=\"convertToInteractive('df-066577da-adaf-48bc-a526-c4ac6481f9c6')\"\n",
              "              title=\"Convert this dataframe to an interactive table.\"\n",
              "              style=\"display:none;\">\n",
              "        \n",
              "  <svg xmlns=\"http://www.w3.org/2000/svg\" height=\"24px\"viewBox=\"0 0 24 24\"\n",
              "       width=\"24px\">\n",
              "    <path d=\"M0 0h24v24H0V0z\" fill=\"none\"/>\n",
              "    <path d=\"M18.56 5.44l.94 2.06.94-2.06 2.06-.94-2.06-.94-.94-2.06-.94 2.06-2.06.94zm-11 1L8.5 8.5l.94-2.06 2.06-.94-2.06-.94L8.5 2.5l-.94 2.06-2.06.94zm10 10l.94 2.06.94-2.06 2.06-.94-2.06-.94-.94-2.06-.94 2.06-2.06.94z\"/><path d=\"M17.41 7.96l-1.37-1.37c-.4-.4-.92-.59-1.43-.59-.52 0-1.04.2-1.43.59L10.3 9.45l-7.72 7.72c-.78.78-.78 2.05 0 2.83L4 21.41c.39.39.9.59 1.41.59.51 0 1.02-.2 1.41-.59l7.78-7.78 2.81-2.81c.8-.78.8-2.07 0-2.86zM5.41 20L4 18.59l7.72-7.72 1.47 1.35L5.41 20z\"/>\n",
              "  </svg>\n",
              "      </button>\n",
              "      \n",
              "  <style>\n",
              "    .colab-df-container {\n",
              "      display:flex;\n",
              "      flex-wrap:wrap;\n",
              "      gap: 12px;\n",
              "    }\n",
              "\n",
              "    .colab-df-convert {\n",
              "      background-color: #E8F0FE;\n",
              "      border: none;\n",
              "      border-radius: 50%;\n",
              "      cursor: pointer;\n",
              "      display: none;\n",
              "      fill: #1967D2;\n",
              "      height: 32px;\n",
              "      padding: 0 0 0 0;\n",
              "      width: 32px;\n",
              "    }\n",
              "\n",
              "    .colab-df-convert:hover {\n",
              "      background-color: #E2EBFA;\n",
              "      box-shadow: 0px 1px 2px rgba(60, 64, 67, 0.3), 0px 1px 3px 1px rgba(60, 64, 67, 0.15);\n",
              "      fill: #174EA6;\n",
              "    }\n",
              "\n",
              "    [theme=dark] .colab-df-convert {\n",
              "      background-color: #3B4455;\n",
              "      fill: #D2E3FC;\n",
              "    }\n",
              "\n",
              "    [theme=dark] .colab-df-convert:hover {\n",
              "      background-color: #434B5C;\n",
              "      box-shadow: 0px 1px 3px 1px rgba(0, 0, 0, 0.15);\n",
              "      filter: drop-shadow(0px 1px 2px rgba(0, 0, 0, 0.3));\n",
              "      fill: #FFFFFF;\n",
              "    }\n",
              "  </style>\n",
              "\n",
              "      <script>\n",
              "        const buttonEl =\n",
              "          document.querySelector('#df-066577da-adaf-48bc-a526-c4ac6481f9c6 button.colab-df-convert');\n",
              "        buttonEl.style.display =\n",
              "          google.colab.kernel.accessAllowed ? 'block' : 'none';\n",
              "\n",
              "        async function convertToInteractive(key) {\n",
              "          const element = document.querySelector('#df-066577da-adaf-48bc-a526-c4ac6481f9c6');\n",
              "          const dataTable =\n",
              "            await google.colab.kernel.invokeFunction('convertToInteractive',\n",
              "                                                     [key], {});\n",
              "          if (!dataTable) return;\n",
              "\n",
              "          const docLinkHtml = 'Like what you see? Visit the ' +\n",
              "            '<a target=\"_blank\" href=https://colab.research.google.com/notebooks/data_table.ipynb>data table notebook</a>'\n",
              "            + ' to learn more about interactive tables.';\n",
              "          element.innerHTML = '';\n",
              "          dataTable['output_type'] = 'display_data';\n",
              "          await google.colab.output.renderOutput(dataTable, element);\n",
              "          const docLink = document.createElement('div');\n",
              "          docLink.innerHTML = docLinkHtml;\n",
              "          element.appendChild(docLink);\n",
              "        }\n",
              "      </script>\n",
              "    </div>\n",
              "  </div>\n",
              "  "
            ]
          },
          "metadata": {},
          "execution_count": 25
        }
      ]
    },
    {
      "cell_type": "code",
      "source": [
        "test_df.shape"
      ],
      "metadata": {
        "colab": {
          "base_uri": "https://localhost:8080/"
        },
        "id": "HLo6iCmgi0pJ",
        "outputId": "bf77a267-dcda-451b-cef5-a9ce0b4aa79a"
      },
      "execution_count": 26,
      "outputs": [
        {
          "output_type": "execute_result",
          "data": {
            "text/plain": [
              "(212, 7)"
            ]
          },
          "metadata": {},
          "execution_count": 26
        }
      ]
    },
    {
      "cell_type": "code",
      "source": [
        "# get test dataset feature values\n",
        "real_stock_price = test_df.iloc[:, 1:2].values\n",
        "print(real_stock_price)"
      ],
      "metadata": {
        "colab": {
          "base_uri": "https://localhost:8080/"
        },
        "id": "U6duHAeBVzbk",
        "outputId": "107b39b7-1264-4f7f-cba8-7e19abdc7ac4"
      },
      "execution_count": 27,
      "outputs": [
        {
          "output_type": "stream",
          "name": "stdout",
          "text": [
            "[[ 88.094002]\n",
            " [ 92.279999]\n",
            " [ 94.739998]\n",
            " [ 99.419998]\n",
            " [ 96.358002]\n",
            " [ 98.699997]\n",
            " [108.851997]\n",
            " [105.952003]\n",
            " [ 98.75    ]\n",
            " [101.522003]\n",
            " [106.050003]\n",
            " [114.377998]\n",
            " [112.849998]\n",
            " [114.125999]\n",
            " [108.398003]\n",
            " [113.697998]\n",
            " [115.138   ]\n",
            " [126.484001]\n",
            " [128.      ]\n",
            " [134.738007]\n",
            " [176.591995]\n",
            " [164.651993]\n",
            " [139.983994]\n",
            " [146.110001]\n",
            " [160.      ]\n",
            " [153.757996]\n",
            " [155.574005]\n",
            " [148.367996]\n",
            " [157.444   ]\n",
            " [168.320007]\n",
            " [184.699997]\n",
            " [182.389999]\n",
            " [181.395996]\n",
            " [167.800003]\n",
            " [169.800003]\n",
            " [156.5     ]\n",
            " [146.      ]\n",
            " [125.940002]\n",
            " [142.251999]\n",
            " [161.      ]\n",
            " [152.792007]\n",
            " [144.753998]\n",
            " [138.      ]\n",
            " [121.078003]\n",
            " [131.886002]\n",
            " [128.039993]\n",
            " [116.178001]\n",
            " [119.      ]\n",
            " [ 93.900002]\n",
            " [ 88.001999]\n",
            " [ 77.800003]\n",
            " [ 74.940002]\n",
            " [ 87.639999]\n",
            " [ 86.720001]\n",
            " [ 95.459999]\n",
            " [109.050003]\n",
            " [109.477997]\n",
            " [101.      ]\n",
            " [102.052002]\n",
            " [100.25    ]\n",
            " [100.800003]\n",
            " [ 96.206001]\n",
            " [101.900002]\n",
            " [102.239998]\n",
            " [109.      ]\n",
            " [110.839996]\n",
            " [112.417999]\n",
            " [118.031998]\n",
            " [139.794006]\n",
            " [148.399994]\n",
            " [143.388   ]\n",
            " [154.455994]\n",
            " [146.539993]\n",
            " [146.024002]\n",
            " [140.796005]\n",
            " [145.520004]\n",
            " [142.162003]\n",
            " [147.522003]\n",
            " [159.128006]\n",
            " [158.033997]\n",
            " [171.037994]\n",
            " [151.      ]\n",
            " [140.199997]\n",
            " [157.957993]\n",
            " [155.300003]\n",
            " [155.442001]\n",
            " [158.753998]\n",
            " [158.102005]\n",
            " [165.399994]\n",
            " [164.166   ]\n",
            " [156.      ]\n",
            " [158.070007]\n",
            " [165.556   ]\n",
            " [163.033997]\n",
            " [164.100006]\n",
            " [163.199997]\n",
            " [164.434006]\n",
            " [166.899994]\n",
            " [164.171997]\n",
            " [162.701996]\n",
            " [161.75    ]\n",
            " [171.600006]\n",
            " [178.940002]\n",
            " [177.623993]\n",
            " [177.975998]\n",
            " [175.567993]\n",
            " [183.800003]\n",
            " [188.001999]\n",
            " [198.376007]\n",
            " [198.039993]\n",
            " [196.      ]\n",
            " [183.557999]\n",
            " [202.369995]\n",
            " [197.542007]\n",
            " [200.600006]\n",
            " [202.556   ]\n",
            " [199.990005]\n",
            " [199.776001]\n",
            " [198.822006]\n",
            " [190.854004]\n",
            " [198.955994]\n",
            " [193.802002]\n",
            " [201.300003]\n",
            " [216.600006]\n",
            " [244.296005]\n",
            " [255.337997]\n",
            " [281.002014]\n",
            " [281.      ]\n",
            " [279.39801 ]\n",
            " [279.200012]\n",
            " [331.799988]\n",
            " [311.200012]\n",
            " [308.600006]\n",
            " [295.432007]\n",
            " [302.690002]\n",
            " [303.802002]\n",
            " [327.985992]\n",
            " [319.799988]\n",
            " [335.790009]\n",
            " [283.201996]\n",
            " [287.      ]\n",
            " [300.799988]\n",
            " [300.200012]\n",
            " [297.600006]\n",
            " [303.      ]\n",
            " [289.839996]\n",
            " [299.002014]\n",
            " [298.597992]\n",
            " [298.165985]\n",
            " [299.90799 ]\n",
            " [289.600006]\n",
            " [279.200012]\n",
            " [294.      ]\n",
            " [322.200012]\n",
            " [332.997986]\n",
            " [335.399994]\n",
            " [379.798004]\n",
            " [373.      ]\n",
            " [372.135986]\n",
            " [408.951996]\n",
            " [425.256012]\n",
            " [394.977997]\n",
            " [412.      ]\n",
            " [436.09201 ]\n",
            " [459.023987]\n",
            " [444.609985]\n",
            " [502.140015]\n",
            " [478.98999 ]\n",
            " [407.230011]\n",
            " [402.809998]\n",
            " [356.      ]\n",
            " [356.600006]\n",
            " [386.209991]\n",
            " [381.940002]\n",
            " [380.950012]\n",
            " [436.559998]\n",
            " [439.869995]\n",
            " [415.600006]\n",
            " [447.940002]\n",
            " [453.130005]\n",
            " [429.600006]\n",
            " [405.160004]\n",
            " [363.799988]\n",
            " [393.470001]\n",
            " [424.619995]\n",
            " [416.      ]\n",
            " [421.320007]\n",
            " [440.76001 ]\n",
            " [421.390015]\n",
            " [423.350006]\n",
            " [423.790009]\n",
            " [419.869995]\n",
            " [438.440002]\n",
            " [430.130005]\n",
            " [442.      ]\n",
            " [443.350006]\n",
            " [449.779999]\n",
            " [450.309998]\n",
            " [454.440002]\n",
            " [446.23999 ]\n",
            " [431.75    ]\n",
            " [422.700012]\n",
            " [441.920013]\n",
            " [421.839996]\n",
            " [411.630005]\n",
            " [423.76001 ]\n",
            " [416.480011]\n",
            " [409.959991]\n",
            " [406.899994]\n",
            " [394.      ]\n",
            " [409.730011]\n",
            " [430.619995]]\n"
          ]
        }
      ]
    },
    {
      "cell_type": "markdown",
      "source": [
        "Get the predicted stock price"
      ],
      "metadata": {
        "id": "KFLGEFYgWZx4"
      }
    },
    {
      "cell_type": "code",
      "source": [
        "# concatenate the train and test datasets for prediction, \n",
        "# because we use the previous 60 days' stock prices to predict the next-day price. \n",
        "# i.e. we need the 60 days' price before the 1st date in the test dataset.\n",
        "\n",
        "dataset_total = pd.concat((train_df['Open'], test_df['Open']), axis=0)"
      ],
      "metadata": {
        "id": "ur1DuPoDV_zQ"
      },
      "execution_count": 28,
      "outputs": []
    },
    {
      "cell_type": "code",
      "source": [
        "dataset_total.shape"
      ],
      "metadata": {
        "colab": {
          "base_uri": "https://localhost:8080/"
        },
        "id": "H9f_RMlyWuTd",
        "outputId": "e3d6487d-b6c7-4e5b-ade5-4f264c88bde4"
      },
      "execution_count": 29,
      "outputs": [
        {
          "output_type": "execute_result",
          "data": {
            "text/plain": [
              "(1470,)"
            ]
          },
          "metadata": {},
          "execution_count": 29
        }
      ]
    },
    {
      "cell_type": "code",
      "source": [
        "# we create the input for prediction, index starting from the \n",
        "# date 60 days before the first date in the test dataset.\n",
        "\n",
        "inputs = dataset_total[len(dataset_total) - len(test_df) - 60:].values"
      ],
      "metadata": {
        "id": "3vTGnKxkWg5F"
      },
      "execution_count": 30,
      "outputs": []
    },
    {
      "cell_type": "code",
      "source": [
        "# reshape the inputs to have only 1 column\n",
        "\n",
        "inputs = inputs.reshape(-1, 1)"
      ],
      "metadata": {
        "id": "y9hP2SJMWjqD"
      },
      "execution_count": 31,
      "outputs": []
    },
    {
      "cell_type": "code",
      "source": [
        "# use the scale set by the training set to scale the test inputs\n",
        "\n",
        "inputs = sc.transform(inputs)"
      ],
      "metadata": {
        "id": "a9tEaxDUXLok"
      },
      "execution_count": 32,
      "outputs": []
    },
    {
      "cell_type": "code",
      "source": [
        "# create the test data structure just as we did for the train dataset\n",
        "\n",
        "X_test = []\n",
        "\n",
        "for i in range(60, 272):\n",
        "    X_test.append(inputs[i-60:i, 0])\n",
        "\n",
        "X_test = np.array(X_test)"
      ],
      "metadata": {
        "id": "WMz1JNs3Xd7V"
      },
      "execution_count": 33,
      "outputs": []
    },
    {
      "cell_type": "code",
      "source": [
        "#  reshape test dataset to have 3D shape\n",
        "X_test = np.reshape(X_test, (X_test.shape[0], X_test.shape[1], 1))"
      ],
      "metadata": {
        "id": "ZOCxE8g2X7np"
      },
      "execution_count": 34,
      "outputs": []
    },
    {
      "cell_type": "code",
      "source": [
        "X_test.shape"
      ],
      "metadata": {
        "colab": {
          "base_uri": "https://localhost:8080/"
        },
        "id": "1Rtr2eMlgdMh",
        "outputId": "6747abec-4c8c-4ad6-dd63-aa73dc43f5cf"
      },
      "execution_count": 35,
      "outputs": [
        {
          "output_type": "execute_result",
          "data": {
            "text/plain": [
              "(212, 60, 1)"
            ]
          },
          "metadata": {},
          "execution_count": 35
        }
      ]
    },
    {
      "cell_type": "code",
      "metadata": {
        "id": "nywLR70_w_Or"
      },
      "source": [
        "# make predictions\n",
        "\n",
        "predicted_stock_price = regressor.predict(X_test)"
      ],
      "execution_count": 36,
      "outputs": []
    },
    {
      "cell_type": "code",
      "source": [
        "print(predicted_stock_price)"
      ],
      "metadata": {
        "colab": {
          "base_uri": "https://localhost:8080/"
        },
        "id": "GqFMOCq2YZpW",
        "outputId": "43659df2-25e2-49b2-e828-23604e8fb297"
      },
      "execution_count": 37,
      "outputs": [
        {
          "output_type": "stream",
          "name": "stdout",
          "text": [
            "[[0.7357227]\n",
            " [1.1181793]\n",
            " [1.5430849]\n",
            " [1.7479556]\n",
            " [1.7768378]\n",
            " [1.6696625]\n",
            " [1.6189818]\n",
            " [1.7408183]\n",
            " [1.7846804]\n",
            " [1.6898708]\n",
            " [1.6659825]\n",
            " [1.7324715]\n",
            " [1.8860245]\n",
            " [1.9222264]\n",
            " [1.9116075]\n",
            " [1.8105175]\n",
            " [1.833791 ]\n",
            " [1.8862858]\n",
            " [2.06386  ]\n",
            " [2.1418183]\n",
            " [2.2147827]\n",
            " [2.8038187]\n",
            " [2.7445955]\n",
            " [2.2025096]\n",
            " [2.1281345]\n",
            " [2.4323578]\n",
            " [2.4792655]\n",
            " [2.4625762]\n",
            " [2.3269296]\n",
            " [2.4266753]\n",
            " [2.6438792]\n",
            " [2.911051 ]\n",
            " [2.8553803]\n",
            " [2.738149 ]\n",
            " [2.4908319]\n",
            " [2.5005305]\n",
            " [2.3733985]\n",
            " [2.2186425]\n",
            " [1.9425638]\n",
            " [2.1500432]\n",
            " [2.5831428]\n",
            " [2.547466 ]\n",
            " [2.3018343]\n",
            " [2.1184316]\n",
            " [1.8792114]\n",
            " [2.0078564]\n",
            " [2.0796762]\n",
            " [1.9322858]\n",
            " [1.9030471]\n",
            " [1.601937 ]\n",
            " [1.422545 ]\n",
            " [1.2875762]\n",
            " [1.2302821]\n",
            " [1.3673697]\n",
            " [1.478585 ]\n",
            " [1.6197541]\n",
            " [1.8361714]\n",
            " [1.9050732]\n",
            " [1.7564597]\n",
            " [1.6693814]\n",
            " [1.6311786]\n",
            " [1.6459446]\n",
            " [1.6140215]\n",
            " [1.6702218]\n",
            " [1.7134492]\n",
            " [1.810499 ]\n",
            " [1.8671949]\n",
            " [1.8846071]\n",
            " [1.9450045]\n",
            " [2.261851 ]\n",
            " [2.4783626]\n",
            " [2.3769765]\n",
            " [2.427164 ]\n",
            " [2.3176785]\n",
            " [2.2655046]\n",
            " [2.1984425]\n",
            " [2.271861 ]\n",
            " [2.2701004]\n",
            " [2.339986 ]\n",
            " [2.5290425]\n",
            " [2.537486 ]\n",
            " [2.675465 ]\n",
            " [2.3780203]\n",
            " [2.113566 ]\n",
            " [2.368379 ]\n",
            " [2.4841223]\n",
            " [2.4763794]\n",
            " [2.4868016]\n",
            " [2.468273 ]\n",
            " [2.564937 ]\n",
            " [2.5654733]\n",
            " [2.4164817]\n",
            " [2.4088442]\n",
            " [2.554934 ]\n",
            " [2.5601149]\n",
            " [2.5445504]\n",
            " [2.5163834]\n",
            " [2.5285373]\n",
            " [2.5740108]\n",
            " [2.539788 ]\n",
            " [2.4992127]\n",
            " [2.4822593]\n",
            " [2.6394913]\n",
            " [2.7856717]\n",
            " [2.7495751]\n",
            " [2.6969132]\n",
            " [2.6408582]\n",
            " [2.7642112]\n",
            " [2.860348 ]\n",
            " [2.999484 ]\n",
            " [2.973376 ]\n",
            " [2.888705 ]\n",
            " [2.6758592]\n",
            " [2.9530017]\n",
            " [2.9693503]\n",
            " [2.968361 ]\n",
            " [2.977118 ]\n",
            " [2.9296868]\n",
            " [2.9150672]\n",
            " [2.9084222]\n",
            " [2.7944212]\n",
            " [2.9129267]\n",
            " [2.8791642]\n",
            " [2.971144 ]\n",
            " [3.2051287]\n",
            " [3.5718772]\n",
            " [3.6560621]\n",
            " [3.860648 ]\n",
            " [3.7843494]\n",
            " [3.6821065]\n",
            " [3.655575 ]\n",
            " [4.257932 ]\n",
            " [4.009504 ]\n",
            " [3.8819628]\n",
            " [3.7216542]\n",
            " [3.8435154]\n",
            " [3.8892598]\n",
            " [4.1531796]\n",
            " [4.0339775]\n",
            " [4.1638865]\n",
            " [3.5121973]\n",
            " [3.577692 ]\n",
            " [3.879568 ]\n",
            " [3.8942103]\n",
            " [3.8251433]\n",
            " [3.8793676]\n",
            " [3.7167342]\n",
            " [3.833605 ]\n",
            " [3.850088 ]\n",
            " [3.8322837]\n",
            " [3.8472064]\n",
            " [3.7166722]\n",
            " [3.5853748]\n",
            " [3.8137877]\n",
            " [4.1579733]\n",
            " [4.217943 ]\n",
            " [4.166484 ]\n",
            " [4.538206 ]\n",
            " [4.434275 ]\n",
            " [4.375227 ]\n",
            " [4.6687403]\n",
            " [4.7538557]\n",
            " [4.485156 ]\n",
            " [4.6227717]\n",
            " [4.7939515]\n",
            " [4.9111195]\n",
            " [4.798449 ]\n",
            " [5.1079464]\n",
            " [4.971846 ]\n",
            " [4.4810066]\n",
            " [4.4875917]\n",
            " [4.0819497]\n",
            " [4.149955 ]\n",
            " [4.4946384]\n",
            " [4.442672 ]\n",
            " [4.4097443]\n",
            " [4.832346 ]\n",
            " [4.8142962]\n",
            " [4.6103444]\n",
            " [4.8412347]\n",
            " [4.860312 ]\n",
            " [4.6886272]\n",
            " [4.5069437]\n",
            " [4.1491246]\n",
            " [4.4953384]\n",
            " [4.7477145]\n",
            " [4.647364 ]\n",
            " [4.669767 ]\n",
            " [4.8010225]\n",
            " [4.6501393]\n",
            " [4.6659093]\n",
            " [4.675089 ]\n",
            " [4.645657 ]\n",
            " [4.7793894]\n",
            " [4.711514 ]\n",
            " [4.78933  ]\n",
            " [4.7924495]\n",
            " [4.828337 ]\n",
            " [4.826303 ]\n",
            " [4.849127 ]\n",
            " [4.793702 ]\n",
            " [4.697234 ]\n",
            " [4.6428185]\n",
            " [4.7921343]\n",
            " [4.643141 ]\n",
            " [4.5690145]\n",
            " [4.6799765]\n",
            " [4.62455  ]\n",
            " [4.573439 ]\n",
            " [4.5580974]\n",
            " [4.4585767]\n",
            " [4.603793 ]]\n"
          ]
        }
      ]
    },
    {
      "cell_type": "code",
      "source": [
        "# since we have predicted the scaled values, we reverse those values\n",
        "\n",
        "predicted_stock_price = sc.inverse_transform(predicted_stock_price)\n",
        "print(predicted_stock_price)"
      ],
      "metadata": {
        "colab": {
          "base_uri": "https://localhost:8080/"
        },
        "id": "W28SdLCSYTRE",
        "outputId": "d541f32a-9249-4b1f-e666-fe276b1fe006"
      },
      "execution_count": 38,
      "outputs": [
        {
          "output_type": "stream",
          "name": "stdout",
          "text": [
            "[[ 43.736084]\n",
            " [ 63.704144]\n",
            " [ 85.88846 ]\n",
            " [ 96.58476 ]\n",
            " [ 98.092705]\n",
            " [ 92.49708 ]\n",
            " [ 89.85104 ]\n",
            " [ 96.21212 ]\n",
            " [ 98.50216 ]\n",
            " [ 93.552155]\n",
            " [ 92.30495 ]\n",
            " [ 95.77634 ]\n",
            " [103.793335]\n",
            " [105.68344 ]\n",
            " [105.12903 ]\n",
            " [ 99.85112 ]\n",
            " [101.06623 ]\n",
            " [103.806984]\n",
            " [113.078125]\n",
            " [117.14833 ]\n",
            " [120.95781 ]\n",
            " [151.71138 ]\n",
            " [148.61934 ]\n",
            " [120.31703 ]\n",
            " [116.4339  ]\n",
            " [132.3174  ]\n",
            " [134.76645 ]\n",
            " [133.8951  ]\n",
            " [126.812996]\n",
            " [132.02072 ]\n",
            " [143.36093 ]\n",
            " [157.30998 ]\n",
            " [154.40341 ]\n",
            " [148.28276 ]\n",
            " [135.37033 ]\n",
            " [135.8767  ]\n",
            " [129.23914 ]\n",
            " [121.159325]\n",
            " [106.745255]\n",
            " [117.57776 ]\n",
            " [140.18988 ]\n",
            " [138.32721 ]\n",
            " [125.50277 ]\n",
            " [115.927315]\n",
            " [103.43763 ]\n",
            " [110.15418 ]\n",
            " [113.90389 ]\n",
            " [106.20864 ]\n",
            " [104.68209 ]\n",
            " [ 88.961136]\n",
            " [ 79.59507 ]\n",
            " [ 72.548355]\n",
            " [ 69.55703 ]\n",
            " [ 76.71437 ]\n",
            " [ 82.52093 ]\n",
            " [ 89.89136 ]\n",
            " [101.190506]\n",
            " [104.78787 ]\n",
            " [ 97.02876 ]\n",
            " [ 92.4824  ]\n",
            " [ 90.48784 ]\n",
            " [ 91.258766]\n",
            " [ 89.592064]\n",
            " [ 92.52628 ]\n",
            " [ 94.78319 ]\n",
            " [ 99.85015 ]\n",
            " [102.81025 ]\n",
            " [103.71934 ]\n",
            " [106.87268 ]\n",
            " [123.415245]\n",
            " [134.71931 ]\n",
            " [129.42595 ]\n",
            " [132.04623 ]\n",
            " [126.329994]\n",
            " [123.605995]\n",
            " [120.10468 ]\n",
            " [123.93787 ]\n",
            " [123.84594 ]\n",
            " [127.494675]\n",
            " [137.36531 ]\n",
            " [137.80615 ]\n",
            " [145.01004 ]\n",
            " [129.48044 ]\n",
            " [115.67328 ]\n",
            " [128.97708 ]\n",
            " [135.02002 ]\n",
            " [134.61577 ]\n",
            " [135.15991 ]\n",
            " [134.19254 ]\n",
            " [139.23936 ]\n",
            " [139.26736 ]\n",
            " [131.48851 ]\n",
            " [131.08975 ]\n",
            " [138.7171  ]\n",
            " [138.9876  ]\n",
            " [138.17497 ]\n",
            " [136.70438 ]\n",
            " [137.33893 ]\n",
            " [139.7131  ]\n",
            " [137.92633 ]\n",
            " [135.80789 ]\n",
            " [134.92276 ]\n",
            " [143.13184 ]\n",
            " [150.76392 ]\n",
            " [148.87932 ]\n",
            " [146.12984 ]\n",
            " [143.2032  ]\n",
            " [149.64346 ]\n",
            " [154.66277 ]\n",
            " [161.92706 ]\n",
            " [160.56396 ]\n",
            " [156.1433  ]\n",
            " [145.03061 ]\n",
            " [159.50023 ]\n",
            " [160.35378 ]\n",
            " [160.30212 ]\n",
            " [160.75934 ]\n",
            " [158.28294 ]\n",
            " [157.51965 ]\n",
            " [157.17273 ]\n",
            " [151.22073 ]\n",
            " [157.4079  ]\n",
            " [155.64517 ]\n",
            " [160.44743 ]\n",
            " [172.66377 ]\n",
            " [191.8117  ]\n",
            " [196.207   ]\n",
            " [206.88843 ]\n",
            " [202.90489 ]\n",
            " [197.56679 ]\n",
            " [196.18158 ]\n",
            " [227.63063 ]\n",
            " [214.66019 ]\n",
            " [208.00128 ]\n",
            " [199.63156 ]\n",
            " [205.99394 ]\n",
            " [208.38226 ]\n",
            " [222.1615  ]\n",
            " [215.93796 ]\n",
            " [222.7205  ]\n",
            " [188.69582 ]\n",
            " [192.1153  ]\n",
            " [207.87625 ]\n",
            " [208.64072 ]\n",
            " [205.03473 ]\n",
            " [207.86578 ]\n",
            " [199.3747  ]\n",
            " [205.47652 ]\n",
            " [206.33708 ]\n",
            " [205.40753 ]\n",
            " [206.18665 ]\n",
            " [199.37146 ]\n",
            " [192.51642 ]\n",
            " [204.44186 ]\n",
            " [222.41177 ]\n",
            " [225.5428  ]\n",
            " [222.85611 ]\n",
            " [242.26373 ]\n",
            " [236.8375  ]\n",
            " [233.7546  ]\n",
            " [249.07892 ]\n",
            " [253.5228  ]\n",
            " [239.49399 ]\n",
            " [246.6789  ]\n",
            " [255.6162  ]\n",
            " [261.73352 ]\n",
            " [255.85101 ]\n",
            " [272.00986 ]\n",
            " [264.90408 ]\n",
            " [239.27734 ]\n",
            " [239.62115 ]\n",
            " [218.44258 ]\n",
            " [221.99313 ]\n",
            " [239.98906 ]\n",
            " [237.27588 ]\n",
            " [235.55673 ]\n",
            " [257.62076 ]\n",
            " [256.6784  ]\n",
            " [246.03008 ]\n",
            " [258.08484 ]\n",
            " [259.08087 ]\n",
            " [250.11722 ]\n",
            " [240.63152 ]\n",
            " [221.94978 ]\n",
            " [240.0256  ]\n",
            " [253.20216 ]\n",
            " [247.96288 ]\n",
            " [249.13252 ]\n",
            " [255.98538 ]\n",
            " [248.10776 ]\n",
            " [248.9311  ]\n",
            " [249.41039 ]\n",
            " [247.87375 ]\n",
            " [254.85591 ]\n",
            " [251.31213 ]\n",
            " [255.37491 ]\n",
            " [255.53778 ]\n",
            " [257.41147 ]\n",
            " [257.30527 ]\n",
            " [258.4969  ]\n",
            " [255.60318 ]\n",
            " [250.56659 ]\n",
            " [247.72554 ]\n",
            " [255.52132 ]\n",
            " [247.74237 ]\n",
            " [243.87224 ]\n",
            " [249.66556 ]\n",
            " [246.77174 ]\n",
            " [244.10324 ]\n",
            " [243.30225 ]\n",
            " [238.10628 ]\n",
            " [245.68803 ]]\n"
          ]
        }
      ]
    },
    {
      "cell_type": "code",
      "metadata": {
        "id": "DdqVPzPO-7Ca",
        "colab": {
          "base_uri": "https://localhost:8080/",
          "height": 295
        },
        "outputId": "a134f07e-db2c-4c9d-d6a7-c0d5273c5193"
      },
      "source": [
        "# visualize the results\n",
        "\n",
        "plt.plot(real_stock_price, color='red', label='Real Stock Price')\n",
        "plt.plot(predicted_stock_price, color='blue', label='Predicted Stock Price')\n",
        "plt.title('Stock Price Prediction ')\n",
        "plt.xlabel('Days')\n",
        "plt.ylabel('Stock Price')\n",
        "plt.legend()\n",
        "plt.show()"
      ],
      "execution_count": 39,
      "outputs": [
        {
          "output_type": "display_data",
          "data": {
            "text/plain": [
              "<Figure size 432x288 with 1 Axes>"
            ],
            "image/png": "[encoded data removed]"
          },
          "metadata": {
            "needs_background": "light"
          }
        }
      ]
    },
    {
      "cell_type": "markdown",
      "source": [
        "##  Model Evaluation"
      ],
      "metadata": {
        "id": "bEKpRYc9ZRrh"
      }
    },
    {
      "cell_type": "code",
      "source": [
        "# metric used is RMSE. the smaller the RMSE value, the better the model.\n",
        "\n",
        "import math\n",
        "from sklearn.metrics import mean_squared_error\n",
        "rmse = math.sqrt(mean_squared_error(real_stock_price, predicted_stock_price))\n",
        "print(rmse)"
      ],
      "metadata": {
        "colab": {
          "base_uri": "https://localhost:8080/"
        },
        "id": "z9HhdRv-fcDl",
        "outputId": "76c2b59a-f6f8-4804-8ea9-37c9f157e4c2"
      },
      "execution_count": 41,
      "outputs": [
        {
          "output_type": "stream",
          "name": "stdout",
          "text": [
            "98.77993708423436\n"
          ]
        }
      ]
    },
    {
      "cell_type": "markdown",
      "metadata": {
        "id": "cnkCNAuEHlzG"
      },
      "source": [
        "## Summary of Findings"
      ]
    },
    {
      "cell_type": "markdown",
      "metadata": {
        "id": "ZA2cp-dIMgki"
      },
      "source": [
        "Our model has an RMSE of 98 against a target RMSE of less than 24, and therefore, we didn't meet our success criteria."
      ]
    },
    {
      "cell_type": "markdown",
      "source": [
        "## Recommendation\n",
        "\n",
        "I recommend trying other algorithms before settling for RNN."
      ],
      "metadata": {
        "id": "e9kSAVv5M3bF"
      }
    },
    {
      "cell_type": "markdown",
      "metadata": {
        "id": "y5_spjYaHoyw"
      },
      "source": [
        "## Challenging the Solution"
      ]
    },
    {
      "cell_type": "markdown",
      "metadata": {
        "id": "i5BnrlDxU5uG"
      },
      "source": [
        "Did we have the right question? Yes\n",
        "\n",
        "Did we have the right data? Yes\n",
        "\n",
        "The following steps can be used to improve our model's performance:\n",
        "\n",
        "* Get/invent more training data\n",
        "* Increase/decrease neurons in the LSTM layers\n",
        "* Increase/decrease LSTM layers\n",
        "* Increase/decrease the timesteps\n",
        "\n",
        "\n"
      ]
    }
  ]
}